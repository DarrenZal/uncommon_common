{
 "cells": [
  {
   "cell_type": "markdown",
   "metadata": {},
   "source": [
    "Data: https://drive.google.com/drive/folders/1ZYLRLzx3iBiG9GCfV9UtFBFZWkzvF7El?usp=sharing\n",
    "\n",
    "Homework questions:\n",
    "\n",
    "Q1. Which SputnikDAO has approved the most grants?\n",
    "Q2. Which SputnikDAO has distributed the most NEAR\" via grants?\n",
    "Q3. Who voted to approve the grant for “Budget for NEAR Arabia Guild” in the Marketing Vertical guild?\n",
    "Q4. How many “Yes” votes did nft-gaming.sputnikdao.near’s proposal to the CommunitySquadDAO receive?\n",
    "Q5. How much $NEAR was requested from the Creatives DAO by chloe.near for TipBot funding?\n",
    "\n",
    "Reflection questions:\n",
    "Descripe the tools & process you used:\n",
    "\n",
    "Any challenges / difficulties (i.e. dataset issues, definitions):\n",
    "\n",
    "Is there any raw data missing that might be interesting to analyze?\n",
    "\n",
    "Which datapoints do you think are relevant to measuring system health?"
   ]
  },
  {
   "cell_type": "code",
   "execution_count": 1,
   "metadata": {},
   "outputs": [],
   "source": [
    "import pandas as pd\n",
    "import numpy as np"
   ]
  },
  {
   "cell_type": "markdown",
   "metadata": {},
   "source": [
    "# Q1. Which SputnikDAO has approved the most grants?"
   ]
  },
  {
   "cell_type": "code",
   "execution_count": 3,
   "metadata": {},
   "outputs": [],
   "source": [
    "fdir = 'data/'\n",
    "fname = 'Sputnik DAO Stats.xlsx'\n",
    "df_daostats = pd.read_excel(fdir+fname,usecols=\"A:H\")\n"
   ]
  },
  {
   "cell_type": "code",
   "execution_count": 10,
   "metadata": {},
   "outputs": [
    {
     "data": {
      "text/html": [
       "<div>\n",
       "<style scoped>\n",
       "    .dataframe tbody tr th:only-of-type {\n",
       "        vertical-align: middle;\n",
       "    }\n",
       "\n",
       "    .dataframe tbody tr th {\n",
       "        vertical-align: top;\n",
       "    }\n",
       "\n",
       "    .dataframe thead th {\n",
       "        text-align: right;\n",
       "    }\n",
       "</style>\n",
       "<table border=\"1\" class=\"dataframe\">\n",
       "  <thead>\n",
       "    <tr style=\"text-align: right;\">\n",
       "      <th></th>\n",
       "      <th>Name</th>\n",
       "      <th>Ⓝ Value</th>\n",
       "      <th>Value (USD)</th>\n",
       "      <th>Proposals</th>\n",
       "      <th>In Progress</th>\n",
       "      <th>Successful</th>\n",
       "      <th>Failed</th>\n",
       "      <th>Expired</th>\n",
       "    </tr>\n",
       "  </thead>\n",
       "  <tbody>\n",
       "    <tr>\n",
       "      <th>0</th>\n",
       "      <td>genesis.sputnikdao.near</td>\n",
       "      <td>15073</td>\n",
       "      <td>157965</td>\n",
       "      <td>45</td>\n",
       "      <td>0</td>\n",
       "      <td>15</td>\n",
       "      <td>9</td>\n",
       "      <td>21</td>\n",
       "    </tr>\n",
       "    <tr>\n",
       "      <th>1</th>\n",
       "      <td>academy.sputnikdao.near</td>\n",
       "      <td>48</td>\n",
       "      <td>503</td>\n",
       "      <td>5</td>\n",
       "      <td>0</td>\n",
       "      <td>2</td>\n",
       "      <td>0</td>\n",
       "      <td>3</td>\n",
       "    </tr>\n",
       "    <tr>\n",
       "      <th>2</th>\n",
       "      <td>ethdenver.sputnikdao.near</td>\n",
       "      <td>264</td>\n",
       "      <td>2767</td>\n",
       "      <td>133</td>\n",
       "      <td>0</td>\n",
       "      <td>92</td>\n",
       "      <td>12</td>\n",
       "      <td>28</td>\n",
       "    </tr>\n",
       "    <tr>\n",
       "      <th>3</th>\n",
       "      <td>arts.sputnikdao.near</td>\n",
       "      <td>205</td>\n",
       "      <td>2144</td>\n",
       "      <td>8</td>\n",
       "      <td>0</td>\n",
       "      <td>7</td>\n",
       "      <td>0</td>\n",
       "      <td>1</td>\n",
       "    </tr>\n",
       "    <tr>\n",
       "      <th>4</th>\n",
       "      <td>createbase.sputnikdao.near</td>\n",
       "      <td>503</td>\n",
       "      <td>5272</td>\n",
       "      <td>483</td>\n",
       "      <td>4</td>\n",
       "      <td>370</td>\n",
       "      <td>77</td>\n",
       "      <td>22</td>\n",
       "    </tr>\n",
       "  </tbody>\n",
       "</table>\n",
       "</div>"
      ],
      "text/plain": [
       "                         Name  Ⓝ Value  Value (USD)  Proposals  In Progress  \\\n",
       "0     genesis.sputnikdao.near    15073       157965         45            0   \n",
       "1     academy.sputnikdao.near       48          503          5            0   \n",
       "2   ethdenver.sputnikdao.near      264         2767        133            0   \n",
       "3        arts.sputnikdao.near      205         2144          8            0   \n",
       "4  createbase.sputnikdao.near      503         5272        483            4   \n",
       "\n",
       "   Successful  Failed  Expired  \n",
       "0          15       9       21  \n",
       "1           2       0        3  \n",
       "2          92      12       28  \n",
       "3           7       0        1  \n",
       "4         370      77       22  "
      ]
     },
     "execution_count": 10,
     "metadata": {},
     "output_type": "execute_result"
    }
   ],
   "source": [
    "df_daostats.head()"
   ]
  },
  {
   "cell_type": "code",
   "execution_count": 14,
   "metadata": {},
   "outputs": [
    {
     "data": {
      "text/html": [
       "<div>\n",
       "<style scoped>\n",
       "    .dataframe tbody tr th:only-of-type {\n",
       "        vertical-align: middle;\n",
       "    }\n",
       "\n",
       "    .dataframe tbody tr th {\n",
       "        vertical-align: top;\n",
       "    }\n",
       "\n",
       "    .dataframe thead th {\n",
       "        text-align: right;\n",
       "    }\n",
       "</style>\n",
       "<table border=\"1\" class=\"dataframe\">\n",
       "  <thead>\n",
       "    <tr style=\"text-align: right;\">\n",
       "      <th></th>\n",
       "      <th>Name</th>\n",
       "      <th>Ⓝ Value</th>\n",
       "      <th>Value (USD)</th>\n",
       "      <th>Proposals</th>\n",
       "      <th>In Progress</th>\n",
       "      <th>Successful</th>\n",
       "      <th>Failed</th>\n",
       "      <th>Expired</th>\n",
       "    </tr>\n",
       "  </thead>\n",
       "  <tbody>\n",
       "    <tr>\n",
       "      <th>23</th>\n",
       "      <td>communitysquad.sputnikdao.near</td>\n",
       "      <td>3494</td>\n",
       "      <td>36622</td>\n",
       "      <td>175</td>\n",
       "      <td>4</td>\n",
       "      <td>144</td>\n",
       "      <td>3</td>\n",
       "      <td>9</td>\n",
       "    </tr>\n",
       "    <tr>\n",
       "      <th>4</th>\n",
       "      <td>createbase.sputnikdao.near</td>\n",
       "      <td>503</td>\n",
       "      <td>5272</td>\n",
       "      <td>483</td>\n",
       "      <td>4</td>\n",
       "      <td>370</td>\n",
       "      <td>77</td>\n",
       "      <td>22</td>\n",
       "    </tr>\n",
       "    <tr>\n",
       "      <th>31</th>\n",
       "      <td>sandbox.sputnikdao.near</td>\n",
       "      <td>8778</td>\n",
       "      <td>91993</td>\n",
       "      <td>455</td>\n",
       "      <td>1</td>\n",
       "      <td>388</td>\n",
       "      <td>6</td>\n",
       "      <td>26</td>\n",
       "    </tr>\n",
       "  </tbody>\n",
       "</table>\n",
       "</div>"
      ],
      "text/plain": [
       "                              Name  Ⓝ Value  Value (USD)  Proposals  \\\n",
       "23  communitysquad.sputnikdao.near     3494        36622        175   \n",
       "4       createbase.sputnikdao.near      503         5272        483   \n",
       "31         sandbox.sputnikdao.near     8778        91993        455   \n",
       "\n",
       "    In Progress  Successful  Failed  Expired  \n",
       "23            4         144       3        9  \n",
       "4             4         370      77       22  \n",
       "31            1         388       6       26  "
      ]
     },
     "execution_count": 14,
     "metadata": {},
     "output_type": "execute_result"
    }
   ],
   "source": [
    "df_daostats.sort_values(by=\"Successful\",).iloc[-3:]"
   ]
  },
  {
   "cell_type": "markdown",
   "metadata": {},
   "source": [
    "**Conclusion: Sandbox has most sucessful proposals (388), followed by createbase and communitysquad**"
   ]
  },
  {
   "cell_type": "markdown",
   "metadata": {},
   "source": [
    "# Q2. Which SputnikDAO has distributed the most ''NEAR\" via grants?"
   ]
  },
  {
   "cell_type": "code",
   "execution_count": 22,
   "metadata": {},
   "outputs": [],
   "source": [
    "fname = 'Sputnik DAO Proposals.xlsx'\n",
    "df_dao_proposals = pd.read_excel(fdir+fname,sheet_name=None)\n",
    "df_grants={'dao':[],'grants':[]}\n",
    "for daoname in df_dao_proposals.keys():\n",
    "    if daoname=='WORKSPACE': # this is not a dao, so skip it\n",
    "        continue\n",
    "    df = df_dao_proposals[daoname]\n",
    "    df.columns = df.columns.str.replace(' ', '_').str.lower() # clean column names to avoid pandas key error\n",
    "    if 'amount_(near)' in df.keys():\n",
    "        # note: some numbers are just \"x\" so we have to skip them\n",
    "        # only including proposals that succeeded\n",
    "        totalfund = pd.to_numeric(df['amount_(near)'].loc[df['status']=='Success'],errors = 'coerce').sum(skipna=True)\n",
    "    else:\n",
    "        \n",
    "        totalfund = (pd.to_numeric(df['kind__amount'].loc[df['status']=='Success'],errors = 'coerce')/(10**24)).sum(skipna=True)\n",
    "    df_grants['dao'].append(daoname)\n",
    "    df_grants['grants'].append(totalfund)\n",
    "df_grants = pd.DataFrame(df_grants).sort_values(by='grants')\n",
    "    "
   ]
  },
  {
   "cell_type": "code",
   "execution_count": 23,
   "metadata": {},
   "outputs": [
    {
     "data": {
      "text/html": [
       "<div>\n",
       "<style scoped>\n",
       "    .dataframe tbody tr th:only-of-type {\n",
       "        vertical-align: middle;\n",
       "    }\n",
       "\n",
       "    .dataframe tbody tr th {\n",
       "        vertical-align: top;\n",
       "    }\n",
       "\n",
       "    .dataframe thead th {\n",
       "        text-align: right;\n",
       "    }\n",
       "</style>\n",
       "<table border=\"1\" class=\"dataframe\">\n",
       "  <thead>\n",
       "    <tr style=\"text-align: right;\">\n",
       "      <th></th>\n",
       "      <th>dao</th>\n",
       "      <th>grants</th>\n",
       "    </tr>\n",
       "  </thead>\n",
       "  <tbody>\n",
       "    <tr>\n",
       "      <th>5</th>\n",
       "      <td>Ecosystem (KoG)</td>\n",
       "      <td>101100.0000</td>\n",
       "    </tr>\n",
       "    <tr>\n",
       "      <th>3</th>\n",
       "      <td>Human Guild</td>\n",
       "      <td>163109.0100</td>\n",
       "    </tr>\n",
       "    <tr>\n",
       "      <th>0</th>\n",
       "      <td>Community Squad</td>\n",
       "      <td>278390.0073</td>\n",
       "    </tr>\n",
       "  </tbody>\n",
       "</table>\n",
       "</div>"
      ],
      "text/plain": [
       "               dao       grants\n",
       "5  Ecosystem (KoG)  101100.0000\n",
       "3      Human Guild  163109.0100\n",
       "0  Community Squad  278390.0073"
      ]
     },
     "execution_count": 23,
     "metadata": {},
     "output_type": "execute_result"
    }
   ],
   "source": [
    "df_grants.iloc[-3:]"
   ]
  },
  {
   "cell_type": "markdown",
   "metadata": {},
   "source": [
    "**Conclusion: Community Squad distributed most grant!**"
   ]
  },
  {
   "cell_type": "markdown",
   "metadata": {},
   "source": [
    "# Q5. How much NEAR was requested from the Creatives DAO by chloe.near for TipBot funding?"
   ]
  },
  {
   "cell_type": "code",
   "execution_count": 24,
   "metadata": {},
   "outputs": [
    {
     "data": {
      "text/plain": [
       "dict_keys(['WORKSPACE', 'Community Squad', 'Creatives', 'Marketing Vertical', 'Human Guild', 'Open Web Sandbox', 'Ecosystem (KoG)', 'Degens', 'Assembly Script', 'Genesis', 'Move Capital', 'NxM', 'Bounties', 'Grants', 'Createbase'])"
      ]
     },
     "execution_count": 24,
     "metadata": {},
     "output_type": "execute_result"
    }
   ],
   "source": [
    "df_dao_proposals.keys()"
   ]
  },
  {
   "cell_type": "code",
   "execution_count": 27,
   "metadata": {},
   "outputs": [
    {
     "ename": "TypeError",
     "evalue": "string indices must be integers",
     "output_type": "error",
     "traceback": [
      "\u001b[0;31m---------------------------------------------------------------------------\u001b[0m",
      "\u001b[0;31mTypeError\u001b[0m                                 Traceback (most recent call last)",
      "\u001b[0;32m<ipython-input-27-f8d92db6ab7a>\u001b[0m in \u001b[0;36m<module>\u001b[0;34m\u001b[0m\n\u001b[1;32m      2\u001b[0m \u001b[0mtotalnear\u001b[0m \u001b[0;34m=\u001b[0m \u001b[0;36m0\u001b[0m\u001b[0;34m\u001b[0m\u001b[0;34m\u001b[0m\u001b[0m\n\u001b[1;32m      3\u001b[0m \u001b[0;32mfor\u001b[0m \u001b[0mrow\u001b[0m \u001b[0;32min\u001b[0m \u001b[0mdf\u001b[0m\u001b[0;34m.\u001b[0m\u001b[0mloc\u001b[0m\u001b[0;34m[\u001b[0m\u001b[0mdf\u001b[0m\u001b[0;34m[\u001b[0m\u001b[0;34m'proposer'\u001b[0m\u001b[0;34m]\u001b[0m\u001b[0;34m==\u001b[0m\u001b[0;34m'chloe.near'\u001b[0m\u001b[0;34m]\u001b[0m\u001b[0;34m:\u001b[0m \u001b[0;31m# all the proposals from chloe.near\u001b[0m\u001b[0;34m\u001b[0m\u001b[0;34m\u001b[0m\u001b[0m\n\u001b[0;32m----> 4\u001b[0;31m     \u001b[0;32mif\u001b[0m \u001b[0;34m'tip'\u001b[0m \u001b[0;32min\u001b[0m \u001b[0mrow\u001b[0m\u001b[0;34m[\u001b[0m\u001b[0;34m'description'\u001b[0m\u001b[0;34m]\u001b[0m \u001b[0;32mand\u001b[0m \u001b[0mrow\u001b[0m\u001b[0;34m[\u001b[0m\u001b[0;34m'status'\u001b[0m\u001b[0;34m]\u001b[0m\u001b[0;34m==\u001b[0m\u001b[0;34m'Success'\u001b[0m\u001b[0;34m:\u001b[0m\u001b[0;34m\u001b[0m\u001b[0;34m\u001b[0m\u001b[0m\n\u001b[0m\u001b[1;32m      5\u001b[0m         \u001b[0mtotalnear\u001b[0m \u001b[0;34m+=\u001b[0m \u001b[0mrow\u001b[0m\u001b[0;34m[\u001b[0m\u001b[0;34m'amount_(near)'\u001b[0m\u001b[0;34m]\u001b[0m\u001b[0;34m\u001b[0m\u001b[0;34m\u001b[0m\u001b[0m\n\u001b[1;32m      6\u001b[0m \u001b[0;34m\u001b[0m\u001b[0m\n",
      "\u001b[0;31mTypeError\u001b[0m: string indices must be integers"
     ]
    }
   ],
   "source": [
    "df = df_dao_proposals['Creatives']\n",
    "totalnear = 0\n",
    "for k,row in range(df.loc[df['proposer']=='chloe.near']): # all the proposals from chloe.near\n",
    "    if ('tip' in row['description']) and row['status']=='Success':\n",
    "        totalnear += row['amount_(near)']\n",
    "        "
   ]
  },
  {
   "cell_type": "code",
   "execution_count": 29,
   "metadata": {},
   "outputs": [
    {
     "data": {
      "text/plain": [
       "'status'"
      ]
     },
     "execution_count": 29,
     "metadata": {},
     "output_type": "execute_result"
    }
   ],
   "source": [
    "row"
   ]
  },
  {
   "cell_type": "code",
   "execution_count": null,
   "metadata": {},
   "outputs": [],
   "source": [
    "mask = np.column_stack([df[col].str.contains(r\"\\chl\", na=False) for col in df])\n",
    "df.loc[mask.any(axis=1)]"
   ]
  }
 ],
 "metadata": {
  "hide_input": false,
  "kernelspec": {
   "display_name": "Python 3",
   "language": "python",
   "name": "python3"
  },
  "language_info": {
   "codemirror_mode": {
    "name": "ipython",
    "version": 3
   },
   "file_extension": ".py",
   "mimetype": "text/x-python",
   "name": "python",
   "nbconvert_exporter": "python",
   "pygments_lexer": "ipython3",
   "version": "3.7.6"
  },
  "toc": {
   "base_numbering": 1,
   "nav_menu": {},
   "number_sections": true,
   "sideBar": true,
   "skip_h1_title": false,
   "title_cell": "Table of Contents",
   "title_sidebar": "Contents",
   "toc_cell": false,
   "toc_position": {},
   "toc_section_display": true,
   "toc_window_display": false
  }
 },
 "nbformat": 4,
 "nbformat_minor": 4
}
