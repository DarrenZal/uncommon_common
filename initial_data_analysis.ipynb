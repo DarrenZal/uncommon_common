{
 "cells": [
  {
   "cell_type": "markdown",
   "metadata": {},
   "source": [
    "Data: https://drive.google.com/drive/folders/1ZYLRLzx3iBiG9GCfV9UtFBFZWkzvF7El?usp=sharing\n",
    "\n",
    "Homework questions:\n",
    "\n",
    "Q1. Which SputnikDAO has approved the most grants?\n",
    "Q2. Which SputnikDAO has distributed the most NEAR\" via grants?\n",
    "Q3. Who voted to approve the grant for “Budget for NEAR Arabia Guild” in the Marketing Vertical guild?\n",
    "Q4. How many “Yes” votes did nft-gaming.sputnikdao.near’s proposal to the CommunitySquadDAO receive?\n",
    "Q5. How much $NEAR was requested from the Creatives DAO by chloe.near for TipBot funding?\n",
    "\n",
    "Reflection questions:\n",
    "Descripe the tools & process you used:\n",
    "\n",
    "Any challenges / difficulties (i.e. dataset issues, definitions):\n",
    "\n",
    "Is there any raw data missing that might be interesting to analyze?\n",
    "\n",
    "Which datapoints do you think are relevant to measuring system health?"
   ]
  },
  {
   "cell_type": "code",
   "execution_count": 1,
   "metadata": {},
   "outputs": [],
   "source": [
    "import pandas as pd\n",
    "import numpy as np"
   ]
  },
  {
   "cell_type": "markdown",
   "metadata": {},
   "source": [
    "# Q1. Which SputnikDAO has approved the most grants?"
   ]
  },
  {
   "cell_type": "code",
   "execution_count": 3,
   "metadata": {},
   "outputs": [],
   "source": [
    "fdir = 'data/'\n",
    "fname = 'Sputnik DAO Stats.xlsx'\n",
    "df_daostats = pd.read_excel(fdir+fname,usecols=\"A:H\")\n"
   ]
  },
  {
   "cell_type": "code",
   "execution_count": 10,
   "metadata": {},
   "outputs": [
    {
     "data": {
      "text/html": [
       "<div>\n",
       "<style scoped>\n",
       "    .dataframe tbody tr th:only-of-type {\n",
       "        vertical-align: middle;\n",
       "    }\n",
       "\n",
       "    .dataframe tbody tr th {\n",
       "        vertical-align: top;\n",
       "    }\n",
       "\n",
       "    .dataframe thead th {\n",
       "        text-align: right;\n",
       "    }\n",
       "</style>\n",
       "<table border=\"1\" class=\"dataframe\">\n",
       "  <thead>\n",
       "    <tr style=\"text-align: right;\">\n",
       "      <th></th>\n",
       "      <th>Name</th>\n",
       "      <th>Ⓝ Value</th>\n",
       "      <th>Value (USD)</th>\n",
       "      <th>Proposals</th>\n",
       "      <th>In Progress</th>\n",
       "      <th>Successful</th>\n",
       "      <th>Failed</th>\n",
       "      <th>Expired</th>\n",
       "    </tr>\n",
       "  </thead>\n",
       "  <tbody>\n",
       "    <tr>\n",
       "      <th>0</th>\n",
       "      <td>genesis.sputnikdao.near</td>\n",
       "      <td>15073</td>\n",
       "      <td>157965</td>\n",
       "      <td>45</td>\n",
       "      <td>0</td>\n",
       "      <td>15</td>\n",
       "      <td>9</td>\n",
       "      <td>21</td>\n",
       "    </tr>\n",
       "    <tr>\n",
       "      <th>1</th>\n",
       "      <td>academy.sputnikdao.near</td>\n",
       "      <td>48</td>\n",
       "      <td>503</td>\n",
       "      <td>5</td>\n",
       "      <td>0</td>\n",
       "      <td>2</td>\n",
       "      <td>0</td>\n",
       "      <td>3</td>\n",
       "    </tr>\n",
       "    <tr>\n",
       "      <th>2</th>\n",
       "      <td>ethdenver.sputnikdao.near</td>\n",
       "      <td>264</td>\n",
       "      <td>2767</td>\n",
       "      <td>133</td>\n",
       "      <td>0</td>\n",
       "      <td>92</td>\n",
       "      <td>12</td>\n",
       "      <td>28</td>\n",
       "    </tr>\n",
       "    <tr>\n",
       "      <th>3</th>\n",
       "      <td>arts.sputnikdao.near</td>\n",
       "      <td>205</td>\n",
       "      <td>2144</td>\n",
       "      <td>8</td>\n",
       "      <td>0</td>\n",
       "      <td>7</td>\n",
       "      <td>0</td>\n",
       "      <td>1</td>\n",
       "    </tr>\n",
       "    <tr>\n",
       "      <th>4</th>\n",
       "      <td>createbase.sputnikdao.near</td>\n",
       "      <td>503</td>\n",
       "      <td>5272</td>\n",
       "      <td>483</td>\n",
       "      <td>4</td>\n",
       "      <td>370</td>\n",
       "      <td>77</td>\n",
       "      <td>22</td>\n",
       "    </tr>\n",
       "  </tbody>\n",
       "</table>\n",
       "</div>"
      ],
      "text/plain": [
       "                         Name  Ⓝ Value  Value (USD)  Proposals  In Progress  \\\n",
       "0     genesis.sputnikdao.near    15073       157965         45            0   \n",
       "1     academy.sputnikdao.near       48          503          5            0   \n",
       "2   ethdenver.sputnikdao.near      264         2767        133            0   \n",
       "3        arts.sputnikdao.near      205         2144          8            0   \n",
       "4  createbase.sputnikdao.near      503         5272        483            4   \n",
       "\n",
       "   Successful  Failed  Expired  \n",
       "0          15       9       21  \n",
       "1           2       0        3  \n",
       "2          92      12       28  \n",
       "3           7       0        1  \n",
       "4         370      77       22  "
      ]
     },
     "execution_count": 10,
     "metadata": {},
     "output_type": "execute_result"
    }
   ],
   "source": [
    "df_daostats.head()"
   ]
  },
  {
   "cell_type": "code",
   "execution_count": 14,
   "metadata": {},
   "outputs": [
    {
     "data": {
      "text/html": [
       "<div>\n",
       "<style scoped>\n",
       "    .dataframe tbody tr th:only-of-type {\n",
       "        vertical-align: middle;\n",
       "    }\n",
       "\n",
       "    .dataframe tbody tr th {\n",
       "        vertical-align: top;\n",
       "    }\n",
       "\n",
       "    .dataframe thead th {\n",
       "        text-align: right;\n",
       "    }\n",
       "</style>\n",
       "<table border=\"1\" class=\"dataframe\">\n",
       "  <thead>\n",
       "    <tr style=\"text-align: right;\">\n",
       "      <th></th>\n",
       "      <th>Name</th>\n",
       "      <th>Ⓝ Value</th>\n",
       "      <th>Value (USD)</th>\n",
       "      <th>Proposals</th>\n",
       "      <th>In Progress</th>\n",
       "      <th>Successful</th>\n",
       "      <th>Failed</th>\n",
       "      <th>Expired</th>\n",
       "    </tr>\n",
       "  </thead>\n",
       "  <tbody>\n",
       "    <tr>\n",
       "      <th>23</th>\n",
       "      <td>communitysquad.sputnikdao.near</td>\n",
       "      <td>3494</td>\n",
       "      <td>36622</td>\n",
       "      <td>175</td>\n",
       "      <td>4</td>\n",
       "      <td>144</td>\n",
       "      <td>3</td>\n",
       "      <td>9</td>\n",
       "    </tr>\n",
       "    <tr>\n",
       "      <th>4</th>\n",
       "      <td>createbase.sputnikdao.near</td>\n",
       "      <td>503</td>\n",
       "      <td>5272</td>\n",
       "      <td>483</td>\n",
       "      <td>4</td>\n",
       "      <td>370</td>\n",
       "      <td>77</td>\n",
       "      <td>22</td>\n",
       "    </tr>\n",
       "    <tr>\n",
       "      <th>31</th>\n",
       "      <td>sandbox.sputnikdao.near</td>\n",
       "      <td>8778</td>\n",
       "      <td>91993</td>\n",
       "      <td>455</td>\n",
       "      <td>1</td>\n",
       "      <td>388</td>\n",
       "      <td>6</td>\n",
       "      <td>26</td>\n",
       "    </tr>\n",
       "  </tbody>\n",
       "</table>\n",
       "</div>"
      ],
      "text/plain": [
       "                              Name  Ⓝ Value  Value (USD)  Proposals  \\\n",
       "23  communitysquad.sputnikdao.near     3494        36622        175   \n",
       "4       createbase.sputnikdao.near      503         5272        483   \n",
       "31         sandbox.sputnikdao.near     8778        91993        455   \n",
       "\n",
       "    In Progress  Successful  Failed  Expired  \n",
       "23            4         144       3        9  \n",
       "4             4         370      77       22  \n",
       "31            1         388       6       26  "
      ]
     },
     "execution_count": 14,
     "metadata": {},
     "output_type": "execute_result"
    }
   ],
   "source": [
    "df_daostats.sort_values(by=\"Successful\",).iloc[-3:]"
   ]
  },
  {
   "cell_type": "markdown",
   "metadata": {},
   "source": [
    "**Conclusion: Sandbox has most sucessful proposals (388), followed by createbase and communitysquad**"
   ]
  },
  {
   "cell_type": "markdown",
   "metadata": {},
   "source": [
    "# Q2. Which SputnikDAO has distributed the most ''NEAR\" via grants?"
   ]
  },
  {
   "cell_type": "code",
   "execution_count": 22,
   "metadata": {},
   "outputs": [],
   "source": [
    "fname = 'Sputnik DAO Proposals.xlsx'\n",
    "df_dao_proposals = pd.read_excel(fdir+fname,sheet_name=None)\n",
    "df_grants={'dao':[],'grants':[]}\n",
    "for daoname in df_dao_proposals.keys():\n",
    "    if daoname=='WORKSPACE': # this is not a dao, so skip it\n",
    "        continue\n",
    "    df = df_dao_proposals[daoname]\n",
    "    df.columns = df.columns.str.replace(' ', '_').str.lower() # clean column names to avoid pandas key error\n",
    "    if 'amount_(near)' in df.keys():\n",
    "        # note: some numbers are just \"x\" so we have to skip them\n",
    "        # only including proposals that succeeded\n",
    "        totalfund = pd.to_numeric(df['amount_(near)'].loc[df['status']=='Success'],errors = 'coerce').sum(skipna=True)\n",
    "    else:\n",
    "        \n",
    "        totalfund = (pd.to_numeric(df['kind__amount'].loc[df['status']=='Success'],errors = 'coerce')/(10**24)).sum(skipna=True)\n",
    "    df_grants['dao'].append(daoname)\n",
    "    df_grants['grants'].append(totalfund)\n",
    "df_grants = pd.DataFrame(df_grants).sort_values(by='grants')\n",
    "    "
   ]
  },
  {
   "cell_type": "code",
   "execution_count": 23,
   "metadata": {},
   "outputs": [
    {
     "data": {
      "text/html": [
       "<div>\n",
       "<style scoped>\n",
       "    .dataframe tbody tr th:only-of-type {\n",
       "        vertical-align: middle;\n",
       "    }\n",
       "\n",
       "    .dataframe tbody tr th {\n",
       "        vertical-align: top;\n",
       "    }\n",
       "\n",
       "    .dataframe thead th {\n",
       "        text-align: right;\n",
       "    }\n",
       "</style>\n",
       "<table border=\"1\" class=\"dataframe\">\n",
       "  <thead>\n",
       "    <tr style=\"text-align: right;\">\n",
       "      <th></th>\n",
       "      <th>dao</th>\n",
       "      <th>grants</th>\n",
       "    </tr>\n",
       "  </thead>\n",
       "  <tbody>\n",
       "    <tr>\n",
       "      <th>5</th>\n",
       "      <td>Ecosystem (KoG)</td>\n",
       "      <td>101100.0000</td>\n",
       "    </tr>\n",
       "    <tr>\n",
       "      <th>3</th>\n",
       "      <td>Human Guild</td>\n",
       "      <td>163109.0100</td>\n",
       "    </tr>\n",
       "    <tr>\n",
       "      <th>0</th>\n",
       "      <td>Community Squad</td>\n",
       "      <td>278390.0073</td>\n",
       "    </tr>\n",
       "  </tbody>\n",
       "</table>\n",
       "</div>"
      ],
      "text/plain": [
       "               dao       grants\n",
       "5  Ecosystem (KoG)  101100.0000\n",
       "3      Human Guild  163109.0100\n",
       "0  Community Squad  278390.0073"
      ]
     },
     "execution_count": 23,
     "metadata": {},
     "output_type": "execute_result"
    }
   ],
   "source": [
    "df_grants.iloc[-3:]"
   ]
  },
  {
   "cell_type": "markdown",
   "metadata": {},
   "source": [
    "**Conclusion: Community Squad distributed most grant!**"
   ]
  },
  {
   "cell_type": "markdown",
   "metadata": {},
   "source": [
    "# Q5. How much NEAR was requested from the Creatives DAO by chloe.near for TipBot funding?"
   ]
  },
  {
   "cell_type": "code",
   "execution_count": 24,
   "metadata": {},
   "outputs": [
    {
     "data": {
      "text/plain": [
       "dict_keys(['WORKSPACE', 'Community Squad', 'Creatives', 'Marketing Vertical', 'Human Guild', 'Open Web Sandbox', 'Ecosystem (KoG)', 'Degens', 'Assembly Script', 'Genesis', 'Move Capital', 'NxM', 'Bounties', 'Grants', 'Createbase'])"
      ]
     },
     "execution_count": 24,
     "metadata": {},
     "output_type": "execute_result"
    }
   ],
   "source": [
    "df_dao_proposals.keys()"
   ]
  },
  {
   "cell_type": "code",
   "execution_count": 33,
   "metadata": {},
   "outputs": [
    {
     "name": "stdout",
     "output_type": "stream",
     "text": [
      "150.0\n"
     ]
    }
   ],
   "source": [
    "df = df_dao_proposals['Creatives']\n",
    "totalnear = 0\n",
    "for k,row in df.loc[df['proposer']=='chloe.near'].iterrows(): # all the proposals from chloe.near\n",
    "    if ('tip' in row['description'].lower()) and row['status']=='Success':\n",
    "        totalnear += row['amount_(near)']\n",
    "print(totalnear)        "
   ]
  },
  {
   "cell_type": "code",
   "execution_count": 32,
   "metadata": {},
   "outputs": [
    {
     "data": {
      "text/html": [
       "<div>\n",
       "<style scoped>\n",
       "    .dataframe tbody tr th:only-of-type {\n",
       "        vertical-align: middle;\n",
       "    }\n",
       "\n",
       "    .dataframe tbody tr th {\n",
       "        vertical-align: top;\n",
       "    }\n",
       "\n",
       "    .dataframe thead th {\n",
       "        text-align: right;\n",
       "    }\n",
       "</style>\n",
       "<table border=\"1\" class=\"dataframe\">\n",
       "  <thead>\n",
       "    <tr style=\"text-align: right;\">\n",
       "      <th></th>\n",
       "      <th>status</th>\n",
       "      <th>proposer</th>\n",
       "      <th>target_(recipient)</th>\n",
       "      <th>amount_(near)</th>\n",
       "      <th>description</th>\n",
       "      <th>forum_discussion</th>\n",
       "      <th>vote_period_end</th>\n",
       "      <th>vote_yes</th>\n",
       "      <th>vote_no</th>\n",
       "      <th>rebecca.near</th>\n",
       "      <th>tabear.near</th>\n",
       "      <th>jmm.near</th>\n",
       "      <th>vandal.near</th>\n",
       "      <th>chloe.near</th>\n",
       "    </tr>\n",
       "  </thead>\n",
       "  <tbody>\n",
       "    <tr>\n",
       "      <th>2</th>\n",
       "      <td>Success</td>\n",
       "      <td>chloe.near</td>\n",
       "      <td>chloe.near</td>\n",
       "      <td>x</td>\n",
       "      <td>Updating purpose of creatives dao</td>\n",
       "      <td>https://gov.near.org/t/guide-the-creatives-dao...</td>\n",
       "      <td>1625062749500654800</td>\n",
       "      <td>2.0</td>\n",
       "      <td>0.0</td>\n",
       "      <td>Yes</td>\n",
       "      <td>NaN</td>\n",
       "      <td>NaN</td>\n",
       "      <td>NaN</td>\n",
       "      <td>Yes</td>\n",
       "    </tr>\n",
       "    <tr>\n",
       "      <th>27</th>\n",
       "      <td>Success</td>\n",
       "      <td>chloe.near</td>\n",
       "      <td>chloe.near</td>\n",
       "      <td>50.0</td>\n",
       "      <td>50 N for tip bot with creatives on TG</td>\n",
       "      <td>https://gov.near.org/t/budget-creatives-dao-bu...</td>\n",
       "      <td>1629928990803414300</td>\n",
       "      <td>2.0</td>\n",
       "      <td>0.0</td>\n",
       "      <td>Yes</td>\n",
       "      <td>NaN</td>\n",
       "      <td>NaN</td>\n",
       "      <td>NaN</td>\n",
       "      <td>Yes</td>\n",
       "    </tr>\n",
       "    <tr>\n",
       "      <th>44</th>\n",
       "      <td>Success</td>\n",
       "      <td>chloe.near</td>\n",
       "      <td>chloe.near</td>\n",
       "      <td>50.0</td>\n",
       "      <td>August tip bot payout to support Creative Comm...</td>\n",
       "      <td>https://gov.near.org/t/budget-creatives-dao-bu...</td>\n",
       "      <td>1632448532535943200</td>\n",
       "      <td>2.0</td>\n",
       "      <td>0.0</td>\n",
       "      <td>Yes</td>\n",
       "      <td>NaN</td>\n",
       "      <td>NaN</td>\n",
       "      <td>NaN</td>\n",
       "      <td>Yes</td>\n",
       "    </tr>\n",
       "    <tr>\n",
       "      <th>56</th>\n",
       "      <td>Success</td>\n",
       "      <td>chloe.near</td>\n",
       "      <td>chloe.near</td>\n",
       "      <td>50.0</td>\n",
       "      <td>Tip bot budget for chloe to incentivize commun...</td>\n",
       "      <td>https://gov.near.org/t/budget-creatives-dao-bu...</td>\n",
       "      <td>1635031363712235500</td>\n",
       "      <td>2.0</td>\n",
       "      <td>0.0</td>\n",
       "      <td>Yes</td>\n",
       "      <td>NaN</td>\n",
       "      <td>NaN</td>\n",
       "      <td>NaN</td>\n",
       "      <td>Yes</td>\n",
       "    </tr>\n",
       "    <tr>\n",
       "      <th>73</th>\n",
       "      <td>Success</td>\n",
       "      <td>chloe.near</td>\n",
       "      <td>marmaj.sputnik-dao.near</td>\n",
       "      <td>190.0</td>\n",
       "      <td>$1500 USD (NEAR @ 7.9) = 190 NEAR for NFT coll...</td>\n",
       "      <td>https://gov.near.org/t/approved-marmaj-dao-oct...</td>\n",
       "      <td>1636061194091931000</td>\n",
       "      <td>3.0</td>\n",
       "      <td>0.0</td>\n",
       "      <td>NaN</td>\n",
       "      <td>Yes</td>\n",
       "      <td>Yes</td>\n",
       "      <td>Yes</td>\n",
       "      <td>NaN</td>\n",
       "    </tr>\n",
       "  </tbody>\n",
       "</table>\n",
       "</div>"
      ],
      "text/plain": [
       "     status    proposer       target_(recipient) amount_(near)  \\\n",
       "2   Success  chloe.near               chloe.near             x   \n",
       "27  Success  chloe.near               chloe.near          50.0   \n",
       "44  Success  chloe.near               chloe.near          50.0   \n",
       "56  Success  chloe.near               chloe.near          50.0   \n",
       "73  Success  chloe.near  marmaj.sputnik-dao.near         190.0   \n",
       "\n",
       "                                          description  \\\n",
       "2                   Updating purpose of creatives dao   \n",
       "27              50 N for tip bot with creatives on TG   \n",
       "44  August tip bot payout to support Creative Comm...   \n",
       "56  Tip bot budget for chloe to incentivize commun...   \n",
       "73  $1500 USD (NEAR @ 7.9) = 190 NEAR for NFT coll...   \n",
       "\n",
       "                                     forum_discussion      vote_period_end  \\\n",
       "2   https://gov.near.org/t/guide-the-creatives-dao...  1625062749500654800   \n",
       "27  https://gov.near.org/t/budget-creatives-dao-bu...  1629928990803414300   \n",
       "44  https://gov.near.org/t/budget-creatives-dao-bu...  1632448532535943200   \n",
       "56  https://gov.near.org/t/budget-creatives-dao-bu...  1635031363712235500   \n",
       "73  https://gov.near.org/t/approved-marmaj-dao-oct...  1636061194091931000   \n",
       "\n",
       "    vote_yes  vote_no rebecca.near tabear.near jmm.near vandal.near chloe.near  \n",
       "2        2.0      0.0          Yes         NaN      NaN         NaN        Yes  \n",
       "27       2.0      0.0          Yes         NaN      NaN         NaN        Yes  \n",
       "44       2.0      0.0          Yes         NaN      NaN         NaN        Yes  \n",
       "56       2.0      0.0          Yes         NaN      NaN         NaN        Yes  \n",
       "73       3.0      0.0          NaN         Yes      Yes         Yes        NaN  "
      ]
     },
     "execution_count": 32,
     "metadata": {},
     "output_type": "execute_result"
    }
   ],
   "source": [
    "df.loc[df['proposer']=='chloe.near'] # directly check -- correct!"
   ]
  },
  {
   "cell_type": "markdown",
   "metadata": {},
   "source": [
    "**Conclusion: $150 NEAR**"
   ]
  }
 ],
 "metadata": {
  "hide_input": false,
  "kernelspec": {
   "display_name": "Python 3",
   "language": "python",
   "name": "python3"
  },
  "language_info": {
   "codemirror_mode": {
    "name": "ipython",
    "version": 3
   },
   "file_extension": ".py",
   "mimetype": "text/x-python",
   "name": "python",
   "nbconvert_exporter": "python",
   "pygments_lexer": "ipython3",
   "version": "3.7.6"
  },
  "toc": {
   "base_numbering": 1,
   "nav_menu": {},
   "number_sections": true,
   "sideBar": true,
   "skip_h1_title": false,
   "title_cell": "Table of Contents",
   "title_sidebar": "Contents",
   "toc_cell": false,
   "toc_position": {},
   "toc_section_display": true,
   "toc_window_display": false
  }
 },
 "nbformat": 4,
 "nbformat_minor": 4
}
