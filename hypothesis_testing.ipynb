{
 "cells": [
  {
   "cell_type": "code",
   "execution_count": 50,
   "metadata": {},
   "outputs": [],
   "source": [
    "import pandas as pd\n",
    "import numpy as np\n",
    "import pickle"
   ]
  },
  {
   "cell_type": "markdown",
   "metadata": {},
   "source": [
    "# hypothesis: DAO activity difference for near v.s. non-near DAOs"
   ]
  },
  {
   "cell_type": "code",
   "execution_count": 8,
   "metadata": {},
   "outputs": [
    {
     "data": {
      "text/plain": [
       "Index(['status', 'proposer', 'target', 'description', 'kind__type',\n",
       "       'kind__bond', 'kind__purpose', 'kind__amount', 'vote_period_end',\n",
       "       'vote_yes', 'vote_no', 'votes__talk2ricardo.near',\n",
       "       'votes__monikablockdiver.near', 'votes__reginanogueira.near',\n",
       "       'votes__nate.near', 'votes__carolin.near', 'votes__mariamneu.near',\n",
       "       'votes__sparrow.near', 'votes__chloethedev.near', 'votes__len.near',\n",
       "       'votes__createbase.near'],\n",
       "      dtype='object')"
      ]
     },
     "execution_count": 8,
     "metadata": {},
     "output_type": "execute_result"
    }
   ],
   "source": [
    "df.columns"
   ]
  },
  {
   "cell_type": "code",
   "execution_count": 14,
   "metadata": {},
   "outputs": [
    {
     "data": {
      "text/html": [
       "<div>\n",
       "<style scoped>\n",
       "    .dataframe tbody tr th:only-of-type {\n",
       "        vertical-align: middle;\n",
       "    }\n",
       "\n",
       "    .dataframe tbody tr th {\n",
       "        vertical-align: top;\n",
       "    }\n",
       "\n",
       "    .dataframe thead th {\n",
       "        text-align: right;\n",
       "    }\n",
       "</style>\n",
       "<table border=\"1\" class=\"dataframe\">\n",
       "  <thead>\n",
       "    <tr style=\"text-align: right;\">\n",
       "      <th></th>\n",
       "      <th>dao</th>\n",
       "      <th>grants</th>\n",
       "      <th>total_proposal</th>\n",
       "      <th>total_success_proposal</th>\n",
       "      <th>first_prop_time</th>\n",
       "      <th>last_prop_time</th>\n",
       "    </tr>\n",
       "  </thead>\n",
       "  <tbody>\n",
       "    <tr>\n",
       "      <th>12</th>\n",
       "      <td>Grants</td>\n",
       "      <td>1700.000000</td>\n",
       "      <td>5</td>\n",
       "      <td>1</td>\n",
       "      <td>1.616817e+18</td>\n",
       "      <td>1.621880e+18</td>\n",
       "    </tr>\n",
       "    <tr>\n",
       "      <th>11</th>\n",
       "      <td>Bounties</td>\n",
       "      <td>4986.000000</td>\n",
       "      <td>8</td>\n",
       "      <td>6</td>\n",
       "      <td>1.630957e+18</td>\n",
       "      <td>1.634140e+18</td>\n",
       "    </tr>\n",
       "    <tr>\n",
       "      <th>8</th>\n",
       "      <td>Genesis</td>\n",
       "      <td>5928.000000</td>\n",
       "      <td>45</td>\n",
       "      <td>15</td>\n",
       "      <td>1.610937e+18</td>\n",
       "      <td>1.625782e+18</td>\n",
       "    </tr>\n",
       "    <tr>\n",
       "      <th>10</th>\n",
       "      <td>NxM</td>\n",
       "      <td>7386.751634</td>\n",
       "      <td>106</td>\n",
       "      <td>85</td>\n",
       "      <td>1.617318e+18</td>\n",
       "      <td>1.637067e+18</td>\n",
       "    </tr>\n",
       "    <tr>\n",
       "      <th>2</th>\n",
       "      <td>Marketing Vertical</td>\n",
       "      <td>20724.000000</td>\n",
       "      <td>71</td>\n",
       "      <td>35</td>\n",
       "      <td>1.630059e+18</td>\n",
       "      <td>1.637152e+18</td>\n",
       "    </tr>\n",
       "    <tr>\n",
       "      <th>7</th>\n",
       "      <td>Assembly Script</td>\n",
       "      <td>23710.000000</td>\n",
       "      <td>21</td>\n",
       "      <td>14</td>\n",
       "      <td>1.614981e+18</td>\n",
       "      <td>1.635934e+18</td>\n",
       "    </tr>\n",
       "    <tr>\n",
       "      <th>6</th>\n",
       "      <td>Degens</td>\n",
       "      <td>28500.000000</td>\n",
       "      <td>97</td>\n",
       "      <td>93</td>\n",
       "      <td>1.631160e+18</td>\n",
       "      <td>1.634894e+18</td>\n",
       "    </tr>\n",
       "    <tr>\n",
       "      <th>4</th>\n",
       "      <td>Open Web Sandbox</td>\n",
       "      <td>64513.170000</td>\n",
       "      <td>455</td>\n",
       "      <td>388</td>\n",
       "      <td>1.621618e+18</td>\n",
       "      <td>1.636762e+18</td>\n",
       "    </tr>\n",
       "    <tr>\n",
       "      <th>13</th>\n",
       "      <td>Createbase</td>\n",
       "      <td>66794.653779</td>\n",
       "      <td>491</td>\n",
       "      <td>377</td>\n",
       "      <td>1.613753e+18</td>\n",
       "      <td>1.637698e+18</td>\n",
       "    </tr>\n",
       "    <tr>\n",
       "      <th>1</th>\n",
       "      <td>Creatives</td>\n",
       "      <td>82502.020000</td>\n",
       "      <td>82</td>\n",
       "      <td>69</td>\n",
       "      <td>1.624170e+18</td>\n",
       "      <td>1.638386e+18</td>\n",
       "    </tr>\n",
       "    <tr>\n",
       "      <th>9</th>\n",
       "      <td>Move Capital</td>\n",
       "      <td>99501.000000</td>\n",
       "      <td>10</td>\n",
       "      <td>7</td>\n",
       "      <td>1.624346e+18</td>\n",
       "      <td>1.635415e+18</td>\n",
       "    </tr>\n",
       "    <tr>\n",
       "      <th>5</th>\n",
       "      <td>Ecosystem (KoG)</td>\n",
       "      <td>101100.000000</td>\n",
       "      <td>46</td>\n",
       "      <td>38</td>\n",
       "      <td>1.628582e+18</td>\n",
       "      <td>1.637020e+18</td>\n",
       "    </tr>\n",
       "    <tr>\n",
       "      <th>3</th>\n",
       "      <td>Human Guild</td>\n",
       "      <td>163109.010000</td>\n",
       "      <td>65</td>\n",
       "      <td>40</td>\n",
       "      <td>1.622674e+18</td>\n",
       "      <td>1.637383e+18</td>\n",
       "    </tr>\n",
       "    <tr>\n",
       "      <th>0</th>\n",
       "      <td>Community Squad</td>\n",
       "      <td>278390.007300</td>\n",
       "      <td>175</td>\n",
       "      <td>147</td>\n",
       "      <td>1.618874e+18</td>\n",
       "      <td>1.637083e+18</td>\n",
       "    </tr>\n",
       "  </tbody>\n",
       "</table>\n",
       "</div>"
      ],
      "text/plain": [
       "                   dao         grants  total_proposal  total_success_proposal  \\\n",
       "12              Grants    1700.000000               5                       1   \n",
       "11            Bounties    4986.000000               8                       6   \n",
       "8              Genesis    5928.000000              45                      15   \n",
       "10                 NxM    7386.751634             106                      85   \n",
       "2   Marketing Vertical   20724.000000              71                      35   \n",
       "7      Assembly Script   23710.000000              21                      14   \n",
       "6               Degens   28500.000000              97                      93   \n",
       "4     Open Web Sandbox   64513.170000             455                     388   \n",
       "13          Createbase   66794.653779             491                     377   \n",
       "1            Creatives   82502.020000              82                      69   \n",
       "9         Move Capital   99501.000000              10                       7   \n",
       "5      Ecosystem (KoG)  101100.000000              46                      38   \n",
       "3          Human Guild  163109.010000              65                      40   \n",
       "0      Community Squad  278390.007300             175                     147   \n",
       "\n",
       "    first_prop_time  last_prop_time  \n",
       "12     1.616817e+18    1.621880e+18  \n",
       "11     1.630957e+18    1.634140e+18  \n",
       "8      1.610937e+18    1.625782e+18  \n",
       "10     1.617318e+18    1.637067e+18  \n",
       "2      1.630059e+18    1.637152e+18  \n",
       "7      1.614981e+18    1.635934e+18  \n",
       "6      1.631160e+18    1.634894e+18  \n",
       "4      1.621618e+18    1.636762e+18  \n",
       "13     1.613753e+18    1.637698e+18  \n",
       "1      1.624170e+18    1.638386e+18  \n",
       "9      1.624346e+18    1.635415e+18  \n",
       "5      1.628582e+18    1.637020e+18  \n",
       "3      1.622674e+18    1.637383e+18  \n",
       "0      1.618874e+18    1.637083e+18  "
      ]
     },
     "execution_count": 14,
     "metadata": {},
     "output_type": "execute_result"
    }
   ],
   "source": [
    "fdir = 'data/'\n",
    "fname = 'Sputnik DAO Proposals.xlsx'\n",
    "df_dao_proposals = pd.read_excel(fdir+fname,sheet_name=None)\n",
    "df_grants={'dao':[],'grants':[],'total_proposal':[],'total_success_proposal':[],'first_prop_time':[],'last_prop_time':[]}\n",
    "for daoname in df_dao_proposals.keys():\n",
    "    if daoname=='WORKSPACE': # this is not a dao, so skip it\n",
    "        continue\n",
    "    df = df_dao_proposals[daoname]\n",
    "    df.columns = df.columns.str.replace(' ', '_').str.lower() # clean column names to avoid pandas key error\n",
    "    if 'amount_(near)' in df.keys():\n",
    "        # note: some numbers are just \"x\" so we have to skip them\n",
    "        # only including proposals that succeeded\n",
    "        totalfund = pd.to_numeric(df['amount_(near)'].loc[df['status']=='Success'],errors = 'coerce').sum(skipna=True)\n",
    "    else:\n",
    "        \n",
    "        totalfund = (pd.to_numeric(df['kind__amount'].loc[df['status']=='Success'],errors = 'coerce')/(10**24)).sum(skipna=True)\n",
    "    df_grants['dao'].append(daoname)\n",
    "    df_grants['grants'].append(totalfund)\n",
    "    df_grants['total_proposal'].append(len(df))\n",
    "    df_grants['total_success_proposal'].append(sum(df['status']=='Success'))\n",
    "    df_grants['first_prop_time'].append(np.min(df['vote_period_end']))\n",
    "    df_grants['last_prop_time'].append(np.max(df['vote_period_end']))\n",
    "df_grants = pd.DataFrame(df_grants).sort_values(by='grants')\n",
    "df_grants"
   ]
  },
  {
   "cell_type": "markdown",
   "metadata": {},
   "source": [
    "## activity quantification 1: total funding distributed"
   ]
  },
  {
   "cell_type": "code",
   "execution_count": 7,
   "metadata": {},
   "outputs": [
    {
     "data": {
      "text/plain": [
       "<matplotlib.axes._subplots.AxesSubplot at 0x7f9e6fad3610>"
      ]
     },
     "execution_count": 7,
     "metadata": {},
     "output_type": "execute_result"
    },
    {
     "data": {
      "image/png": "[encoded data removed]",
      "text/plain": [
       "<Figure size 432x288 with 1 Axes>"
      ]
     },
     "metadata": {
      "needs_background": "light"
     },
     "output_type": "display_data"
    }
   ],
   "source": [
    "df_grants.plot.barh(x='dao',y='grants',)"
   ]
  },
  {
   "cell_type": "markdown",
   "metadata": {},
   "source": [
    "## activity quantification 2: total proposals & success proposals"
   ]
  },
  {
   "cell_type": "code",
   "execution_count": 12,
   "metadata": {},
   "outputs": [
    {
     "data": {
      "text/plain": [
       "<matplotlib.axes._subplots.AxesSubplot at 0x7f9e6fc57950>"
      ]
     },
     "execution_count": 12,
     "metadata": {},
     "output_type": "execute_result"
    },
    {
     "data": {
      "image/png": "[encoded data removed]",
      "text/plain": [
       "<Figure size 432x288 with 1 Axes>"
      ]
     },
     "metadata": {
      "needs_background": "light"
     },
     "output_type": "display_data"
    }
   ],
   "source": [
    "df_grants.sort_values(by='total_proposal').plot.barh(x='dao',y={'total_proposal','total_success_proposal'},)"
   ]
  },
  {
   "cell_type": "markdown",
   "metadata": {},
   "source": [
    "## activity quantification 3: activity frequency\n",
    "\n",
    "Defined as the time of first proposal to last proposal divided by total proposals happened"
   ]
  },
  {
   "cell_type": "code",
   "execution_count": 45,
   "metadata": {},
   "outputs": [],
   "source": [
    "prop_daydelta=pd.to_timedelta(pd.to_datetime(df_grants['last_prop_time'])-pd.to_datetime(df_grants['first_prop_time']))/ np.timedelta64(1, 'D')\n",
    "df_grants['proposal_freq'] = df_grants['total_proposal']/prop_daydelta"
   ]
  },
  {
   "cell_type": "code",
   "execution_count": 48,
   "metadata": {},
   "outputs": [
    {
     "data": {
      "text/plain": [
       "<matplotlib.axes._subplots.AxesSubplot at 0x7f9e70a74fd0>"
      ]
     },
     "execution_count": 48,
     "metadata": {},
     "output_type": "execute_result"
    },
    {
     "data": {
      "image/png": "[encoded data removed]",
      "text/plain": [
       "<Figure size 432x288 with 1 Axes>"
      ]
     },
     "metadata": {
      "needs_background": "light"
     },
     "output_type": "display_data"
    }
   ],
   "source": [
    "df_grants.sort_values(by='proposal_freq').plot.barh(x='dao',y='proposal_freq',title='# of proposal per day')"
   ]
  },
  {
   "cell_type": "code",
   "execution_count": 53,
   "metadata": {},
   "outputs": [],
   "source": [
    "pickle.dump(df_grants,open('dao_prop_stats','wb'))"
   ]
  },
  {
   "cell_type": "code",
   "execution_count": null,
   "metadata": {},
   "outputs": [],
   "source": []
  }
 ],
 "metadata": {
  "hide_input": false,
  "kernelspec": {
   "display_name": "Python 3",
   "language": "python",
   "name": "python3"
  },
  "language_info": {
   "codemirror_mode": {
    "name": "ipython",
    "version": 3
   },
   "file_extension": ".py",
   "mimetype": "text/x-python",
   "name": "python",
   "nbconvert_exporter": "python",
   "pygments_lexer": "ipython3",
   "version": "3.7.6"
  },
  "toc": {
   "base_numbering": 1,
   "nav_menu": {},
   "number_sections": true,
   "sideBar": true,
   "skip_h1_title": false,
   "title_cell": "Table of Contents",
   "title_sidebar": "Contents",
   "toc_cell": false,
   "toc_position": {},
   "toc_section_display": true,
   "toc_window_display": false
  }
 },
 "nbformat": 4,
 "nbformat_minor": 4
}
