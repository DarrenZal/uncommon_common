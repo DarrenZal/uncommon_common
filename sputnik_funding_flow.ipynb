{
 "cells": [
  {
   "cell_type": "code",
   "execution_count": 38,
   "metadata": {},
   "outputs": [],
   "source": [
    "import pandas as pd\n",
    "import numpy as np\n",
    "import pickle"
   ]
  },
  {
   "cell_type": "markdown",
   "metadata": {},
   "source": [
    "# get the money flow between daos\n",
    "Criteria: if a transaction is targeted to \"x.sputnikdao.near\" or \"x.sputnik-dao.near\", then it's a between-dao transaction."
   ]
  },
  {
   "cell_type": "code",
   "execution_count": 91,
   "metadata": {},
   "outputs": [],
   "source": [
    "fdir = 'data/'\n",
    "fname = 'Sputnik DAO Proposals.xlsx'\n",
    "df_dao_proposals = pd.read_excel(fdir+fname,sheet_name=None)\n",
    "df_out={'dao_give':[]}\n",
    "df_in={'dao_receive':[]}\n",
    "df_alltrans={'dao_give':[],'dao_receive':[],'amount':[]}\n",
    "for daoname in df_dao_proposals.keys():\n",
    "    if daoname=='WORKSPACE': # this is not a dao, so skip it\n",
    "        continue\n",
    "    df = df_dao_proposals[daoname]\n",
    "    df.columns = df.columns.str.replace(' ', '_').str.lower() # clean column names to avoid pandas key error\n",
    "    \n",
    "    # transform the amount to be in the unit of near\n",
    "    if 'kind__amount' in df.keys():\n",
    "        df['amount_(near)'] = pd.to_numeric(df['kind__amount'],errors = 'coerce')/(10**24)\n",
    "       \n",
    "    else:\n",
    "        df['amount_(near)'] = pd.to_numeric(df['amount_(near)'],errors = 'coerce')\n",
    "    \n",
    "    # also, standardize column names\n",
    "    if 'target' not in df.columns:\n",
    "        df.columns = df.columns.str.replace('.*recipient.*', 'target',regex=True)\n",
    "\n",
    "    # look into the fund flow\n",
    "    allgives = {'receiver':[],'amount':[]}\n",
    "    for index, prop in df.iterrows():\n",
    "        if prop['status']=='Success': # only counting successful transactions\n",
    "            if prop['target'][-17:] == '.sputnik-dao.near':\n",
    "        \n",
    "                df_alltrans['dao_receive'].append( prop['target'][:-17])\n",
    "            elif  prop['target'][-16:] == '.sputnikdao.near':\n",
    "                df_alltrans['dao_receive'].append( prop['target'][:-16])\n",
    "            else: \n",
    "                continue\n",
    "            df_alltrans['dao_give'].append(daoname)\n",
    "            df_alltrans['amount'].append( prop['amount_(near)'])\n",
    "                \n",
    "    \n",
    "df_alltrans = pd.DataFrame(df_alltrans)"
   ]
  },
  {
   "cell_type": "code",
   "execution_count": 103,
   "metadata": {},
   "outputs": [
    {
     "data": {
      "text/html": [
       "<div>\n",
       "<style scoped>\n",
       "    .dataframe tbody tr th:only-of-type {\n",
       "        vertical-align: middle;\n",
       "    }\n",
       "\n",
       "    .dataframe tbody tr th {\n",
       "        vertical-align: top;\n",
       "    }\n",
       "\n",
       "    .dataframe thead th {\n",
       "        text-align: right;\n",
       "    }\n",
       "</style>\n",
       "<table border=\"1\" class=\"dataframe\">\n",
       "  <thead>\n",
       "    <tr style=\"text-align: right;\">\n",
       "      <th></th>\n",
       "      <th>dao_give</th>\n",
       "      <th>dao_receive</th>\n",
       "      <th>amount</th>\n",
       "    </tr>\n",
       "  </thead>\n",
       "  <tbody>\n",
       "    <tr>\n",
       "      <th>0</th>\n",
       "      <td>Community Squad</td>\n",
       "      <td>createbase</td>\n",
       "      <td>300.0</td>\n",
       "    </tr>\n",
       "    <tr>\n",
       "      <th>1</th>\n",
       "      <td>Community Squad</td>\n",
       "      <td>portuguese</td>\n",
       "      <td>150.0</td>\n",
       "    </tr>\n",
       "    <tr>\n",
       "      <th>2</th>\n",
       "      <td>Community Squad</td>\n",
       "      <td>sandbox</td>\n",
       "      <td>2551.0</td>\n",
       "    </tr>\n",
       "    <tr>\n",
       "      <th>3</th>\n",
       "      <td>Community Squad</td>\n",
       "      <td>nft-gaming</td>\n",
       "      <td>2000.0</td>\n",
       "    </tr>\n",
       "    <tr>\n",
       "      <th>4</th>\n",
       "      <td>Community Squad</td>\n",
       "      <td>vr-dao</td>\n",
       "      <td>2000.0</td>\n",
       "    </tr>\n",
       "  </tbody>\n",
       "</table>\n",
       "</div>"
      ],
      "text/plain": [
       "          dao_give dao_receive  amount\n",
       "0  Community Squad  createbase   300.0\n",
       "1  Community Squad  portuguese   150.0\n",
       "2  Community Squad     sandbox  2551.0\n",
       "3  Community Squad  nft-gaming  2000.0\n",
       "4  Community Squad      vr-dao  2000.0"
      ]
     },
     "execution_count": 103,
     "metadata": {},
     "output_type": "execute_result"
    }
   ],
   "source": [
    "df_alltrans.head()"
   ]
  },
  {
   "cell_type": "code",
   "execution_count": 143,
   "metadata": {},
   "outputs": [],
   "source": [
    "df_alltrans.to_csv('transactions_between_daos.csv')"
   ]
  },
  {
   "cell_type": "markdown",
   "metadata": {},
   "source": [
    "# Question 1: how much of the funding comes from community squad?"
   ]
  },
  {
   "cell_type": "code",
   "execution_count": 45,
   "metadata": {},
   "outputs": [
    {
     "name": "stdout",
     "output_type": "stream",
     "text": [
      "                               amount\n",
      "dao_receive                          \n",
      "neararabia                      43.50\n",
      "createbase                     300.00\n",
      "afrikaburn                     428.00\n",
      "nearsamurai                    490.00\n",
      "bogotahacknode                 560.00\n",
      "san-francisco-near-hacknode    700.00\n",
      "near_asia_dev_dao              710.00\n",
      "lisboa-node                    913.00\n",
      "nyc                           1000.00\n",
      "near-data-center              1000.00\n",
      "nft-onboarding                1005.00\n",
      "lisboa-hack                   1151.95\n",
      "npk-guild-nigeria             1367.50\n",
      "portuguese                    1395.00\n",
      "telegramcommunity             1600.00\n",
      "mukachevo                     1885.00\n",
      "near_india_guild              1943.50\n",
      "nft-gaming                    2000.00\n",
      "art                           2000.00\n",
      "vr-dao                        2000.00\n",
      "curators                      2100.00\n",
      "misfits                       4142.00\n",
      "wiki                          4500.00\n",
      "rucommunity                   5250.00\n",
      "vitalpointai                  6600.00\n",
      "china_charity_dao            10000.00\n",
      "vietnam_covid19_charity      10000.00\n",
      "marketing-vertical           20831.14\n",
      "creatives                    62434.00\n",
      "sandbox                      73271.00\n"
     ]
    }
   ],
   "source": [
    "daogive = 'Community Squad'\n",
    "comsquad_give = df_alltrans.loc[df_alltrans['dao_give']==daogive].groupby('dao_receive').sum().sort_values(by='amount')\n",
    "print(comsquad_give)"
   ]
  },
  {
   "cell_type": "markdown",
   "metadata": {},
   "source": [
    "conclusion 1: not all. many daos like human guild, degen, NxM do not receive funding from community squad (so how to track their income?)"
   ]
  },
  {
   "cell_type": "code",
   "execution_count": null,
   "metadata": {},
   "outputs": [],
   "source": []
  },
  {
   "cell_type": "markdown",
   "metadata": {},
   "source": [
    "## for daos receiving money from community squad, is that their major source?"
   ]
  },
  {
   "cell_type": "code",
   "execution_count": 94,
   "metadata": {},
   "outputs": [
    {
     "data": {
      "text/html": [
       "<div>\n",
       "<style scoped>\n",
       "    .dataframe tbody tr th:only-of-type {\n",
       "        vertical-align: middle;\n",
       "    }\n",
       "\n",
       "    .dataframe tbody tr th {\n",
       "        vertical-align: top;\n",
       "    }\n",
       "\n",
       "    .dataframe thead th {\n",
       "        text-align: right;\n",
       "    }\n",
       "</style>\n",
       "<table border=\"1\" class=\"dataframe\">\n",
       "  <thead>\n",
       "    <tr style=\"text-align: right;\">\n",
       "      <th></th>\n",
       "      <th>Name</th>\n",
       "      <th>Ⓝ Value</th>\n",
       "      <th>Value (USD)</th>\n",
       "      <th>Proposals</th>\n",
       "      <th>In Progress</th>\n",
       "      <th>Successful</th>\n",
       "      <th>Failed</th>\n",
       "      <th>Expired</th>\n",
       "    </tr>\n",
       "  </thead>\n",
       "  <tbody>\n",
       "    <tr>\n",
       "      <th>0</th>\n",
       "      <td>genesis</td>\n",
       "      <td>15073.0</td>\n",
       "      <td>157965.0</td>\n",
       "      <td>45.0</td>\n",
       "      <td>0.0</td>\n",
       "      <td>15.0</td>\n",
       "      <td>9.0</td>\n",
       "      <td>21.0</td>\n",
       "    </tr>\n",
       "    <tr>\n",
       "      <th>1</th>\n",
       "      <td>academy</td>\n",
       "      <td>48.0</td>\n",
       "      <td>503.0</td>\n",
       "      <td>5.0</td>\n",
       "      <td>0.0</td>\n",
       "      <td>2.0</td>\n",
       "      <td>0.0</td>\n",
       "      <td>3.0</td>\n",
       "    </tr>\n",
       "    <tr>\n",
       "      <th>2</th>\n",
       "      <td>ethdenver</td>\n",
       "      <td>264.0</td>\n",
       "      <td>2767.0</td>\n",
       "      <td>133.0</td>\n",
       "      <td>0.0</td>\n",
       "      <td>92.0</td>\n",
       "      <td>12.0</td>\n",
       "      <td>28.0</td>\n",
       "    </tr>\n",
       "    <tr>\n",
       "      <th>3</th>\n",
       "      <td>arts</td>\n",
       "      <td>205.0</td>\n",
       "      <td>2144.0</td>\n",
       "      <td>8.0</td>\n",
       "      <td>0.0</td>\n",
       "      <td>7.0</td>\n",
       "      <td>0.0</td>\n",
       "      <td>1.0</td>\n",
       "    </tr>\n",
       "    <tr>\n",
       "      <th>4</th>\n",
       "      <td>createbase</td>\n",
       "      <td>503.0</td>\n",
       "      <td>5272.0</td>\n",
       "      <td>483.0</td>\n",
       "      <td>4.0</td>\n",
       "      <td>370.0</td>\n",
       "      <td>77.0</td>\n",
       "      <td>22.0</td>\n",
       "    </tr>\n",
       "  </tbody>\n",
       "</table>\n",
       "</div>"
      ],
      "text/plain": [
       "         Name  Ⓝ Value  Value (USD)  Proposals  In Progress  Successful  \\\n",
       "0     genesis  15073.0     157965.0       45.0          0.0        15.0   \n",
       "1     academy     48.0        503.0        5.0          0.0         2.0   \n",
       "2   ethdenver    264.0       2767.0      133.0          0.0        92.0   \n",
       "3        arts    205.0       2144.0        8.0          0.0         7.0   \n",
       "4  createbase    503.0       5272.0      483.0          4.0       370.0   \n",
       "\n",
       "   Failed  Expired  \n",
       "0     9.0     21.0  \n",
       "1     0.0      3.0  \n",
       "2    12.0     28.0  \n",
       "3     0.0      1.0  \n",
       "4    77.0     22.0  "
      ]
     },
     "execution_count": 94,
     "metadata": {},
     "output_type": "execute_result"
    }
   ],
   "source": [
    "# load the current value of each dao\n",
    "df_daostats = pickle.load(open('dao_stats','rb'))\n",
    "df_daostats['Name']=df_daostats['Name'].str.replace('.sputnikdao.near','',regex=True)\n",
    "\n",
    "df_daostats.head()"
   ]
  },
  {
   "cell_type": "code",
   "execution_count": 95,
   "metadata": {},
   "outputs": [
    {
     "data": {
      "text/html": [
       "<div>\n",
       "<style scoped>\n",
       "    .dataframe tbody tr th:only-of-type {\n",
       "        vertical-align: middle;\n",
       "    }\n",
       "\n",
       "    .dataframe tbody tr th {\n",
       "        vertical-align: top;\n",
       "    }\n",
       "\n",
       "    .dataframe thead th {\n",
       "        text-align: right;\n",
       "    }\n",
       "</style>\n",
       "<table border=\"1\" class=\"dataframe\">\n",
       "  <thead>\n",
       "    <tr style=\"text-align: right;\">\n",
       "      <th></th>\n",
       "      <th>dao</th>\n",
       "      <th>grants</th>\n",
       "      <th>total_proposal</th>\n",
       "      <th>total_success_proposal</th>\n",
       "      <th>first_prop_time</th>\n",
       "      <th>last_prop_time</th>\n",
       "      <th>proposal_freq</th>\n",
       "    </tr>\n",
       "  </thead>\n",
       "  <tbody>\n",
       "    <tr>\n",
       "      <th>12</th>\n",
       "      <td>Grants</td>\n",
       "      <td>1700.000000</td>\n",
       "      <td>5</td>\n",
       "      <td>1</td>\n",
       "      <td>1.616817e+18</td>\n",
       "      <td>1.621880e+18</td>\n",
       "      <td>0.085321</td>\n",
       "    </tr>\n",
       "    <tr>\n",
       "      <th>11</th>\n",
       "      <td>Bounties</td>\n",
       "      <td>4986.000000</td>\n",
       "      <td>8</td>\n",
       "      <td>6</td>\n",
       "      <td>1.630957e+18</td>\n",
       "      <td>1.634140e+18</td>\n",
       "      <td>0.217143</td>\n",
       "    </tr>\n",
       "    <tr>\n",
       "      <th>8</th>\n",
       "      <td>Genesis</td>\n",
       "      <td>5928.000000</td>\n",
       "      <td>45</td>\n",
       "      <td>15</td>\n",
       "      <td>1.610937e+18</td>\n",
       "      <td>1.625782e+18</td>\n",
       "      <td>0.261898</td>\n",
       "    </tr>\n",
       "    <tr>\n",
       "      <th>10</th>\n",
       "      <td>NxM</td>\n",
       "      <td>7386.751634</td>\n",
       "      <td>106</td>\n",
       "      <td>85</td>\n",
       "      <td>1.617318e+18</td>\n",
       "      <td>1.637067e+18</td>\n",
       "      <td>0.463734</td>\n",
       "    </tr>\n",
       "    <tr>\n",
       "      <th>2</th>\n",
       "      <td>Marketing Vertical</td>\n",
       "      <td>20724.000000</td>\n",
       "      <td>71</td>\n",
       "      <td>35</td>\n",
       "      <td>1.630059e+18</td>\n",
       "      <td>1.637152e+18</td>\n",
       "      <td>0.864883</td>\n",
       "    </tr>\n",
       "  </tbody>\n",
       "</table>\n",
       "</div>"
      ],
      "text/plain": [
       "                   dao        grants  total_proposal  total_success_proposal  \\\n",
       "12              Grants   1700.000000               5                       1   \n",
       "11            Bounties   4986.000000               8                       6   \n",
       "8              Genesis   5928.000000              45                      15   \n",
       "10                 NxM   7386.751634             106                      85   \n",
       "2   Marketing Vertical  20724.000000              71                      35   \n",
       "\n",
       "    first_prop_time  last_prop_time  proposal_freq  \n",
       "12     1.616817e+18    1.621880e+18       0.085321  \n",
       "11     1.630957e+18    1.634140e+18       0.217143  \n",
       "8      1.610937e+18    1.625782e+18       0.261898  \n",
       "10     1.617318e+18    1.637067e+18       0.463734  \n",
       "2      1.630059e+18    1.637152e+18       0.864883  "
      ]
     },
     "execution_count": 95,
     "metadata": {},
     "output_type": "execute_result"
    }
   ],
   "source": [
    "# load the total funding distributed historically\n",
    "df_grants = pickle.load(open('dao_prop_stats','rb'))\n",
    "df_grants.head()"
   ]
  },
  {
   "cell_type": "code",
   "execution_count": 96,
   "metadata": {},
   "outputs": [
    {
     "name": "stdout",
     "output_type": "stream",
     "text": [
      "Creatives has total fund 82512.02, 62434.0 comes from community squad.\n",
      "Createbase has total fund 67297.65377887999, 300.0 comes from community squad.\n",
      "Marketing Vertical has total fund 21499.0, 20831.14 comes from community squad.\n",
      "Open Web Sandbox has total fund 73291.17000000006, 73271.0 comes from community squad.\n"
     ]
    }
   ],
   "source": [
    "bigdaos = ['Creatives','Createbase','Marketing Vertical','Open Web Sandbox']\n",
    "for dao in bigdaos:\n",
    "    daoalt = dao.lower().replace(' ','-')\n",
    "    if dao == 'Open Web Sandbox':\n",
    "        daoalt = 'sandbox'\n",
    "    print(\"{} has total fund {}, {} comes from community squad.\".format(dao,float(df_grants.loc[df_grants['dao']==dao]['grants'])+float(df_daostats.loc[df_daostats['Name']==daoalt]['Ⓝ Value']),comsquad_give.loc[daoalt]['amount']))\n",
    "    "
   ]
  },
  {
   "cell_type": "markdown",
   "metadata": {},
   "source": [
    "conclusion: some has most of its funding from community squad(marketing vertical, sandbox), some has the majority (Creatives), some only a tiny bit (Createbase)"
   ]
  },
  {
   "cell_type": "markdown",
   "metadata": {},
   "source": [
    "# Question 2: if it's not from community squad, can we find all the sources of funds?"
   ]
  },
  {
   "cell_type": "markdown",
   "metadata": {},
   "source": [
    "## create base"
   ]
  },
  {
   "cell_type": "code",
   "execution_count": 100,
   "metadata": {},
   "outputs": [
    {
     "name": "stdout",
     "output_type": "stream",
     "text": [
      "                 amount\n",
      "dao_give               \n",
      "Createbase         20.0\n",
      "Community Squad   300.0\n",
      "Creatives        7710.0\n"
     ]
    }
   ],
   "source": [
    "dao = 'createbase'\n",
    "comsquad_give = df_alltrans.loc[df_alltrans['dao_receive']==dao].groupby('dao_give').sum().sort_values(by='amount')\n",
    "print(comsquad_give)"
   ]
  },
  {
   "cell_type": "markdown",
   "metadata": {},
   "source": [
    "## creatives"
   ]
  },
  {
   "cell_type": "code",
   "execution_count": 101,
   "metadata": {},
   "outputs": [
    {
     "name": "stdout",
     "output_type": "stream",
     "text": [
      "                   amount\n",
      "dao_give                 \n",
      "Creatives        31190.58\n",
      "Community Squad  62434.00\n"
     ]
    }
   ],
   "source": [
    "dao = 'creatives'\n",
    "comsquad_give = df_alltrans.loc[df_alltrans['dao_receive']==dao].groupby('dao_give').sum().sort_values(by='amount')\n",
    "print(comsquad_give)\n",
    "\n",
    "# note: there's money from creatives to creatives for \"Moving funds from Sputnik to Astro!\""
   ]
  },
  {
   "cell_type": "markdown",
   "metadata": {},
   "source": [
    "## degens"
   ]
  },
  {
   "cell_type": "code",
   "execution_count": 105,
   "metadata": {},
   "outputs": [
    {
     "name": "stdout",
     "output_type": "stream",
     "text": [
      "Empty DataFrame\n",
      "Columns: [amount]\n",
      "Index: []\n"
     ]
    }
   ],
   "source": [
    "dao = 'degens'\n",
    "comsquad_give = df_alltrans.loc[df_alltrans['dao_receive']==dao].groupby('dao_give').sum().sort_values(by='amount')\n",
    "print(comsquad_give)"
   ]
  },
  {
   "cell_type": "markdown",
   "metadata": {},
   "source": [
    "## NxM"
   ]
  },
  {
   "cell_type": "code",
   "execution_count": 130,
   "metadata": {},
   "outputs": [],
   "source": [
    "df_trans_receive = df_alltrans.groupby(['dao_receive','dao_give']).sum()"
   ]
  },
  {
   "cell_type": "code",
   "execution_count": 144,
   "metadata": {},
   "outputs": [],
   "source": [
    "df_trans_receive.to_csv('transaction_receiver_sums.csv')"
   ]
  },
  {
   "cell_type": "code",
   "execution_count": 131,
   "metadata": {},
   "outputs": [
    {
     "data": {
      "text/html": [
       "<div>\n",
       "<style scoped>\n",
       "    .dataframe tbody tr th:only-of-type {\n",
       "        vertical-align: middle;\n",
       "    }\n",
       "\n",
       "    .dataframe tbody tr th {\n",
       "        vertical-align: top;\n",
       "    }\n",
       "\n",
       "    .dataframe thead th {\n",
       "        text-align: right;\n",
       "    }\n",
       "</style>\n",
       "<table border=\"1\" class=\"dataframe\">\n",
       "  <thead>\n",
       "    <tr style=\"text-align: right;\">\n",
       "      <th></th>\n",
       "      <th>amount</th>\n",
       "    </tr>\n",
       "    <tr>\n",
       "      <th>dao_give</th>\n",
       "      <th></th>\n",
       "    </tr>\n",
       "  </thead>\n",
       "  <tbody>\n",
       "    <tr>\n",
       "      <th>NxM</th>\n",
       "      <td>420.0</td>\n",
       "    </tr>\n",
       "  </tbody>\n",
       "</table>\n",
       "</div>"
      ],
      "text/plain": [
       "          amount\n",
       "dao_give        \n",
       "NxM        420.0"
      ]
     },
     "execution_count": 131,
     "metadata": {},
     "output_type": "execute_result"
    }
   ],
   "source": [
    "df_trans_receive.loc['nxm'] # can't find other source of income for nxm. this is for transfering to astro, again."
   ]
  },
  {
   "cell_type": "code",
   "execution_count": 134,
   "metadata": {},
   "outputs": [
    {
     "data": {
      "text/html": [
       "<div>\n",
       "<style scoped>\n",
       "    .dataframe tbody tr th:only-of-type {\n",
       "        vertical-align: middle;\n",
       "    }\n",
       "\n",
       "    .dataframe tbody tr th {\n",
       "        vertical-align: top;\n",
       "    }\n",
       "\n",
       "    .dataframe thead th {\n",
       "        text-align: right;\n",
       "    }\n",
       "</style>\n",
       "<table border=\"1\" class=\"dataframe\">\n",
       "  <thead>\n",
       "    <tr style=\"text-align: right;\">\n",
       "      <th></th>\n",
       "      <th>amount</th>\n",
       "    </tr>\n",
       "    <tr>\n",
       "      <th>dao_give</th>\n",
       "      <th></th>\n",
       "    </tr>\n",
       "  </thead>\n",
       "  <tbody>\n",
       "    <tr>\n",
       "      <th>Creatives</th>\n",
       "      <td>4205.0</td>\n",
       "    </tr>\n",
       "    <tr>\n",
       "      <th>Marketing Vertical</th>\n",
       "      <td>140.0</td>\n",
       "    </tr>\n",
       "  </tbody>\n",
       "</table>\n",
       "</div>"
      ],
      "text/plain": [
       "                    amount\n",
       "dao_give                  \n",
       "Creatives           4205.0\n",
       "Marketing Vertical   140.0"
      ]
     },
     "execution_count": 134,
     "metadata": {},
     "output_type": "execute_result"
    }
   ],
   "source": [
    "# wait actaully, some nxm are under \"nxm-dao\"\n",
    "df_trans_receive.loc['nxm-dao'] # can't find other source of income for nxm. this is for transfering to astro, again."
   ]
  },
  {
   "cell_type": "code",
   "execution_count": 138,
   "metadata": {},
   "outputs": [
    {
     "name": "stdout",
     "output_type": "stream",
     "text": [
      "NxM has total fund 7889.751633986928\n"
     ]
    }
   ],
   "source": [
    "# how much of nxm dao is from creatives / marketing vertical compared to their total funds?\n",
    "dao='NxM'\n",
    "daoalt = dao.lower()+'-dao'\n",
    "    \n",
    "print(\"{} has total fund {}\".format(dao,float(df_grants.loc[df_grants['dao']==dao]['grants'])+float(df_daostats.loc[df_daostats['Name']==daoalt]['Ⓝ Value'])))\n",
    "\n",
    "# okay, still a large chunk of income missing"
   ]
  },
  {
   "cell_type": "markdown",
   "metadata": {},
   "source": [
    "conclusion: still missing a bit chunk of money source."
   ]
  },
  {
   "cell_type": "markdown",
   "metadata": {},
   "source": [
    "## in general, who are the significant money givers?"
   ]
  },
  {
   "cell_type": "code",
   "execution_count": 139,
   "metadata": {},
   "outputs": [],
   "source": [
    "df_give_sum = df_alltrans.groupby(['dao_give']).sum()"
   ]
  },
  {
   "cell_type": "code",
   "execution_count": 142,
   "metadata": {},
   "outputs": [
    {
     "data": {
      "text/html": [
       "<div>\n",
       "<style scoped>\n",
       "    .dataframe tbody tr th:only-of-type {\n",
       "        vertical-align: middle;\n",
       "    }\n",
       "\n",
       "    .dataframe tbody tr th {\n",
       "        vertical-align: top;\n",
       "    }\n",
       "\n",
       "    .dataframe thead th {\n",
       "        text-align: right;\n",
       "    }\n",
       "</style>\n",
       "<table border=\"1\" class=\"dataframe\">\n",
       "  <thead>\n",
       "    <tr style=\"text-align: right;\">\n",
       "      <th></th>\n",
       "      <th>amount</th>\n",
       "    </tr>\n",
       "    <tr>\n",
       "      <th>dao_give</th>\n",
       "      <th></th>\n",
       "    </tr>\n",
       "  </thead>\n",
       "  <tbody>\n",
       "    <tr>\n",
       "      <th>Community Squad</th>\n",
       "      <td>221620.59</td>\n",
       "    </tr>\n",
       "    <tr>\n",
       "      <th>Creatives</th>\n",
       "      <td>70137.02</td>\n",
       "    </tr>\n",
       "    <tr>\n",
       "      <th>Move Capital</th>\n",
       "      <td>48001.00</td>\n",
       "    </tr>\n",
       "    <tr>\n",
       "      <th>Ecosystem (KoG)</th>\n",
       "      <td>28900.00</td>\n",
       "    </tr>\n",
       "    <tr>\n",
       "      <th>Human Guild</th>\n",
       "      <td>19500.00</td>\n",
       "    </tr>\n",
       "    <tr>\n",
       "      <th>Createbase</th>\n",
       "      <td>7768.00</td>\n",
       "    </tr>\n",
       "    <tr>\n",
       "      <th>Marketing Vertical</th>\n",
       "      <td>3950.00</td>\n",
       "    </tr>\n",
       "    <tr>\n",
       "      <th>NxM</th>\n",
       "      <td>1266.00</td>\n",
       "    </tr>\n",
       "    <tr>\n",
       "      <th>Genesis</th>\n",
       "      <td>333.00</td>\n",
       "    </tr>\n",
       "  </tbody>\n",
       "</table>\n",
       "</div>"
      ],
      "text/plain": [
       "                       amount\n",
       "dao_give                     \n",
       "Community Squad     221620.59\n",
       "Creatives            70137.02\n",
       "Move Capital         48001.00\n",
       "Ecosystem (KoG)      28900.00\n",
       "Human Guild          19500.00\n",
       "Createbase            7768.00\n",
       "Marketing Vertical    3950.00\n",
       "NxM                   1266.00\n",
       "Genesis                333.00"
      ]
     },
     "execution_count": 142,
     "metadata": {},
     "output_type": "execute_result"
    }
   ],
   "source": [
    "df_give_sum.sort_values(by='amount',ascending=False)"
   ]
  },
  {
   "cell_type": "code",
   "execution_count": null,
   "metadata": {},
   "outputs": [],
   "source": []
  }
 ],
 "metadata": {
  "hide_input": false,
  "kernelspec": {
   "display_name": "Python 3",
   "language": "python",
   "name": "python3"
  },
  "language_info": {
   "codemirror_mode": {
    "name": "ipython",
    "version": 3
   },
   "file_extension": ".py",
   "mimetype": "text/x-python",
   "name": "python",
   "nbconvert_exporter": "python",
   "pygments_lexer": "ipython3",
   "version": "3.7.6"
  },
  "toc": {
   "base_numbering": 1,
   "nav_menu": {},
   "number_sections": true,
   "sideBar": true,
   "skip_h1_title": false,
   "title_cell": "Table of Contents",
   "title_sidebar": "Contents",
   "toc_cell": false,
   "toc_position": {},
   "toc_section_display": true,
   "toc_window_display": true
  }
 },
 "nbformat": 4,
 "nbformat_minor": 4
}
