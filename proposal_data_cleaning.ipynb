{
 "cells": [
  {
   "cell_type": "code",
   "execution_count": 1,
   "metadata": {},
   "outputs": [],
   "source": [
    "import pandas as pd\n",
    "import numpy as np\n",
    "import pickle"
   ]
  },
  {
   "cell_type": "code",
   "execution_count": 23,
   "metadata": {},
   "outputs": [],
   "source": [
    "fdir = 'data/'\n",
    "fname = 'Sputnik DAO Proposals.xlsx'\n",
    "newfname = 'Sputnik DAO Proposals Cleaned.xlsx'\n",
    "df_dao_proposals = pd.read_excel(fdir+fname,sheet_name=None)\n",
    "cleandfs = {}\n",
    "for daoname in df_dao_proposals.keys():\n",
    "    if daoname=='WORKSPACE': # this is not a dao, so skip it\n",
    "        continue\n",
    "    df = df_dao_proposals[daoname]\n",
    "    df.columns = df.columns.str.replace(' ', '_').str.lower() # clean column names to avoid pandas key error\n",
    "    # transform the amount to be in the unit of near\n",
    "    if 'kind__amount' in df.keys():\n",
    "        df['kind__amount'] = pd.to_numeric(df['kind__amount'],errors = 'coerce')/(10**24)\n",
    "        df=df.rename(columns={'kind__amount':'amount_(near)'})\n",
    "        \n",
    "    else:\n",
    "        df['amount_(near)'] = pd.to_numeric(df['amount_(near)'],errors = 'coerce')\n",
    "    # also, standardize column names\n",
    "    if 'target' not in df.columns:\n",
    "        df.columns = df.columns.str.replace('.*recipient.*', 'target',regex=True)\n",
    "    # standardize the time stamps\n",
    "    df['vote_period_end'] =pd.to_datetime(df['vote_period_end'])\n",
    "\n",
    "    cleandfs[daoname]=df\n",
    "    \n",
    "    \n",
    "with pd.ExcelWriter(fdir+newfname) as writer:  \n",
    "    for daoname in cleandfs.keys():\n",
    "        df = cleandfs[daoname]\n",
    "        df.to_excel(writer,sheet_name=daoname)\n"
   ]
  },
  {
   "cell_type": "code",
   "execution_count": 24,
   "metadata": {},
   "outputs": [
    {
     "data": {
      "text/plain": [
       "'Createbase'"
      ]
     },
     "execution_count": 24,
     "metadata": {},
     "output_type": "execute_result"
    }
   ],
   "source": [
    "daoname"
   ]
  },
  {
   "cell_type": "code",
   "execution_count": null,
   "metadata": {},
   "outputs": [],
   "source": []
  }
 ],
 "metadata": {
  "hide_input": false,
  "kernelspec": {
   "display_name": "Python 3",
   "language": "python",
   "name": "python3"
  },
  "language_info": {
   "codemirror_mode": {
    "name": "ipython",
    "version": 3
   },
   "file_extension": ".py",
   "mimetype": "text/x-python",
   "name": "python",
   "nbconvert_exporter": "python",
   "pygments_lexer": "ipython3",
   "version": "3.7.6"
  },
  "toc": {
   "base_numbering": 1,
   "nav_menu": {},
   "number_sections": true,
   "sideBar": true,
   "skip_h1_title": false,
   "title_cell": "Table of Contents",
   "title_sidebar": "Contents",
   "toc_cell": false,
   "toc_position": {},
   "toc_section_display": true,
   "toc_window_display": false
  }
 },
 "nbformat": 4,
 "nbformat_minor": 4
}
